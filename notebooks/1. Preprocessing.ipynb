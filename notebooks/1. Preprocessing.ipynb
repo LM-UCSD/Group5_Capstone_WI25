{
 "cells": [
  {
   "cell_type": "code",
   "execution_count": 2,
   "id": "1cca3ed6-ea03-4dab-a1ab-c07c161720ca",
   "metadata": {},
   "outputs": [],
   "source": [
    "import pandas as pd\n",
    "import os"
   ]
  },
  {
   "cell_type": "code",
   "execution_count": 5,
   "id": "1be5afdb-276b-49b1-8a51-3c2bbd0f778d",
   "metadata": {},
   "outputs": [],
   "source": [
    "file_2019 = pd.read_csv(r'G:\\Capstone Files\\File Structure\\Project Files\\MMSI Files (10th Degree)\\Files By Year\\mmsi-daily-csvs-10-v2-2019.csv')\n",
    "file_2020 = pd.read_csv(r'G:\\Capstone Files\\File Structure\\Project Files\\MMSI Files (10th Degree)\\Files By Year\\mmsi-daily-csvs-10-v2-2020.csv')\n",
    "vessels = pd.read_csv('fishing-vessels-v2.csv')"
   ]
  },
  {
   "cell_type": "code",
   "execution_count": 6,
   "id": "09bbd7b9-cdf9-4cee-a90c-572242a95db9",
   "metadata": {},
   "outputs": [],
   "source": [
    "vessels.drop(['flag_ais','registries_listed','fishing_hours_2012', 'fishing_hours_2013', 'fishing_hours_2014', 'fishing_hours_2015', 'fishing_hours_2016','fishing_hours_2017','fishing_hours_2018'],axis=1,inplace=True)"
   ]
  },
  {
   "cell_type": "code",
   "execution_count": 7,
   "id": "58e93612-c63b-432f-a1b5-d3ff3b172583",
   "metadata": {},
   "outputs": [],
   "source": [
    "data_frames = [file_2019,file_2020]\n",
    "\n",
    "df = pd.concat(data_frames, ignore_index=True)"
   ]
  },
  {
   "cell_type": "code",
   "execution_count": 10,
   "id": "c1cd0e9b-042a-4e5e-bdb8-248919282da5",
   "metadata": {},
   "outputs": [],
   "source": [
    "def get_season(month):\n",
    "    if month in [12, 1, 2]:\n",
    "        return 'Winter'\n",
    "    elif month in [3, 4, 5]:\n",
    "        return 'Spring'\n",
    "    elif month in [6, 7, 8]:\n",
    "        return 'Summer'\n",
    "    elif month in [9, 10, 11]:\n",
    "        return 'Fall'\n",
    "df['date'] = pd.to_datetime(df['date'])\n",
    "df['season'] = df['date'].dt.month.apply(get_season)"
   ]
  },
  {
   "cell_type": "code",
   "execution_count": 11,
   "id": "0e922268-588e-4b14-9ec0-4598d635f989",
   "metadata": {},
   "outputs": [],
   "source": [
    "df.to_csv('MMSI-daily-merged_2019_2020.csv', index=False)\n",
    "vessels.to_csv('vessels_dropped.csv',index=False)"
   ]
  },
  {
   "cell_type": "code",
   "execution_count": 12,
   "id": "c97850f5-da0c-4122-a84e-ce628aa14bfb",
   "metadata": {},
   "outputs": [],
   "source": [
    "del df, vessels, file_2019, file_2020, data_frames"
   ]
  },
  {
   "cell_type": "code",
   "execution_count": 13,
   "id": "d7934364-9f79-4950-8fc2-d031ef13643a",
   "metadata": {},
   "outputs": [
    {
     "name": "stdout",
     "output_type": "stream",
     "text": [
      "Processed chunk 1\n",
      "Processed chunk 2\n",
      "Processed chunk 3\n",
      "Processed chunk 4\n",
      "Processed chunk 5\n",
      "Processed chunk 6\n",
      "Processed chunk 7\n",
      "Processed chunk 8\n",
      "Processed chunk 9\n",
      "Processed chunk 10\n",
      "Processed chunk 11\n",
      "Processed chunk 12\n",
      "Processed chunk 13\n",
      "Processed chunk 14\n",
      "Processed chunk 15\n",
      "Processed chunk 16\n",
      "Processed chunk 17\n",
      "Processed chunk 18\n",
      "Processed chunk 19\n",
      "Processed chunk 20\n",
      "Processed chunk 21\n",
      "Processed chunk 22\n",
      "Processed chunk 23\n",
      "Processed chunk 24\n",
      "Processed chunk 25\n",
      "Processed chunk 26\n",
      "Processed chunk 27\n",
      "Processed chunk 28\n",
      "Processed chunk 29\n",
      "Processed chunk 30\n",
      "Processed chunk 31\n",
      "Processed chunk 32\n",
      "Processed chunk 33\n",
      "Processed chunk 34\n",
      "Processed chunk 35\n",
      "Processed chunk 36\n",
      "Processed chunk 37\n",
      "Processed chunk 38\n",
      "Processed chunk 39\n",
      "Processed chunk 40\n",
      "Processed chunk 41\n",
      "Processed chunk 42\n",
      "Processed chunk 43\n",
      "Processed chunk 44\n",
      "Processed chunk 45\n",
      "Processed chunk 46\n",
      "Processed chunk 47\n",
      "Processed chunk 48\n",
      "Processed chunk 49\n",
      "Processed chunk 50\n",
      "Processed chunk 51\n",
      "Processed chunk 52\n",
      "Processed chunk 53\n",
      "Processed chunk 54\n",
      "Processed chunk 55\n",
      "Processed chunk 56\n",
      "Processed chunk 57\n",
      "Processed chunk 58\n",
      "Processed chunk 59\n",
      "Processed chunk 60\n",
      "Processed chunk 61\n",
      "Processed chunk 62\n",
      "Processed chunk 63\n",
      "Processed chunk 64\n",
      "Processed chunk 65\n",
      "Processed chunk 66\n",
      "Processed chunk 67\n",
      "Processed chunk 68\n",
      "Processed chunk 69\n",
      "Processed chunk 70\n",
      "Processed chunk 71\n",
      "Processed chunk 72\n",
      "Done\n"
     ]
    }
   ],
   "source": [
    "import pandas as pd\n",
    "\n",
    "#File paths, adjust if needed\n",
    "fishing_effort = \"MMSI-daily-merged_2019_2020.csv\"\n",
    "vessels = \"vessels_dropped.csv\"\n",
    "output = \"MMSI-daily_merged_2019_2020-vessels-gfw-seasons.csv\"\n",
    "\n",
    "small_df = pd.read_csv(vessels, dtype={\"mmsi\": \"int32\"})  \n",
    "\n",
    "# Define chunk size based on memory constraints (adjust if needed)\n",
    "chunksize = 1500000  \n",
    "\n",
    "with pd.read_csv(fishing_effort, chunksize=chunksize, dtype={\"mmsi\": \"int32\"}) as reader:\n",
    "    for i, chunk in enumerate(reader):\n",
    "        merged_chunk = chunk.merge(small_df, on=\"mmsi\", how=\"left\")\n",
    "\n",
    "        mode = \"w\" if i == 0 else \"a\"\n",
    "        header = i == 0\n",
    "        merged_chunk.to_csv(output, mode=mode, index=False, header=header)\n",
    "\n",
    "        print(f\"Processed chunk {i+1}\")\n",
    "\n",
    "print(\"Done\")"
   ]
  }
 ],
 "metadata": {
  "kernelspec": {
   "display_name": "Python 3 (ipykernel)",
   "language": "python",
   "name": "python3"
  },
  "language_info": {
   "codemirror_mode": {
    "name": "ipython",
    "version": 3
   },
   "file_extension": ".py",
   "mimetype": "text/x-python",
   "name": "python",
   "nbconvert_exporter": "python",
   "pygments_lexer": "ipython3",
   "version": "3.11.5"
  }
 },
 "nbformat": 4,
 "nbformat_minor": 5
}

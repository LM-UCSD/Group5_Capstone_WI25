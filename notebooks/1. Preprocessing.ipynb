{
 "cells": [
  {
   "cell_type": "code",
   "execution_count": 1,
   "id": "1cca3ed6-ea03-4dab-a1ab-c07c161720ca",
   "metadata": {},
   "outputs": [],
   "source": [
    "import pandas as pd\n",
    "import os\n",
    "import requests\n",
    "import zipfile"
   ]
  },
  {
   "cell_type": "code",
   "execution_count": 2,
   "id": "f5c48286-82fb-408b-b48d-7f41f7f68baf",
   "metadata": {},
   "outputs": [],
   "source": [
    "url = 'https://github.com/LM-UCSD/Group5_Capstone_WI25/raw/main/data/Group_5%20Files.zip'\n",
    "\n",
    "response = requests.get(url)\n",
    "\n",
    "with open('Group_5_Files.zip', 'wb') as f:\n",
    "    f.write(response.content)"
   ]
  },
  {
   "cell_type": "code",
   "execution_count": 3,
   "id": "2bf3ba66-8a6d-464c-bdb5-44026f325b69",
   "metadata": {},
   "outputs": [],
   "source": [
    "unzip_dir = os.getcwd()\n",
    "\n",
    "with zipfile.ZipFile('Group_5_Files.zip', 'r') as zip_ref:\n",
    "    zip_ref.extractall(unzip_dir)"
   ]
  },
  {
   "cell_type": "code",
   "execution_count": 4,
   "id": "1be5afdb-276b-49b1-8a51-3c2bbd0f778d",
   "metadata": {},
   "outputs": [],
   "source": [
    "file_2019 = pd.read_csv(os.path.join(unzip_dir,'mmsi-daily-csvs-10-v2-2019.csv'))\n",
    "file_2020 = pd.read_csv(os.path.join(unzip_dir,'mmsi-daily-csvs-10-v2-2020.csv'))\n",
    "vessels = pd.read_csv(os.path.join(unzip_dir, 'fishing-vessels-v2.csv'))"
   ]
  },
  {
   "cell_type": "code",
   "execution_count": 5,
   "id": "c8159c74-a950-4aca-abc4-2a9d9b54b8fc",
   "metadata": {},
   "outputs": [
    {
     "name": "stdout",
     "output_type": "stream",
     "text": [
      "         date  cell_ll_lat  cell_ll_lon       mmsi   hours  fishing_hours\n",
      "0  2019-01-01          0.0       -105.6  224900000  0.2036            0.0\n",
      "1  2019-01-01          0.0       -105.3  224900000  0.0205            0.0\n",
      "2  2019-01-01          0.0       -105.5  224900000  0.9008            0.0\n",
      "3  2019-01-01          0.0       -105.4  224900000  0.8638            0.0\n",
      "4  2019-01-01          0.0         -0.3  228071900  0.7969            0.0\n",
      "         date  cell_ll_lat  cell_ll_lon       mmsi   hours  fishing_hours\n",
      "0  2020-01-01          0.0         -5.3  228128000  0.5616            0.0\n",
      "1  2020-01-01          0.0         -6.1  228168000  0.4247            0.0\n",
      "2  2020-01-01          0.0       -157.9  367672410  0.9838            0.0\n",
      "3  2020-01-01          0.0         88.6  412209145  0.2422            0.0\n",
      "4  2020-01-01          0.0         59.4  412421068  1.6341            0.0\n",
      "        mmsi flag_ais flag_registry flag_gfw vessel_class_inferred  \\\n",
      "0   40120000      NaN           GRC      GRC                   NaN   \n",
      "1  444002410      NaN           KOR      KOR                   NaN   \n",
      "2  987654320      NaN           PHL      PHL                   NaN   \n",
      "3  554128120      NaN           NRU      NRU                   NaN   \n",
      "4  112119600      NaN           USA      USA                   NaN   \n",
      "\n",
      "   vessel_class_inferred_score vessel_class_registry   vessel_class_gfw  \\\n",
      "0                          NaN              trawlers           trawlers   \n",
      "1                          NaN     tuna_purse_seines  tuna_purse_seines   \n",
      "2                          NaN     tuna_purse_seines  tuna_purse_seines   \n",
      "3                          NaN     tuna_purse_seines  tuna_purse_seines   \n",
      "4                          NaN               fishing            fishing   \n",
      "\n",
      "  self_reported_fishing_vessel  length_m_inferred  ...  \\\n",
      "0                         True                NaN  ...   \n",
      "1                        False                NaN  ...   \n",
      "2                        False                NaN  ...   \n",
      "3                        False                NaN  ...   \n",
      "4                         True                NaN  ...   \n",
      "\n",
      "               registries_listed  fishing_hours_2012  fishing_hours_2013  \\\n",
      "0                    EU|GFCM|IMO                 NaN                 NaN   \n",
      "1  FFA|IMO|ISSF|KOR|WCPFC|WCPFC2                 NaN                 NaN   \n",
      "2          FFA|ISSF|WCPFC|WCPFC2                 NaN                 NaN   \n",
      "3        FFA|IMO|ISSF|TWN4|WCPFC                 NaN                 NaN   \n",
      "4                        IMO|USA                 NaN                 NaN   \n",
      "\n",
      "   fishing_hours_2014  fishing_hours_2015  fishing_hours_2016  \\\n",
      "0                 NaN                 NaN                 NaN   \n",
      "1                 NaN                 NaN                 NaN   \n",
      "2                 NaN                 NaN                 NaN   \n",
      "3                 NaN                 NaN                 NaN   \n",
      "4                 NaN                 NaN                 NaN   \n",
      "\n",
      "   fishing_hours_2017  fishing_hours_2018 fishing_hours_2019  \\\n",
      "0                 NaN                 NaN                NaN   \n",
      "1                 NaN                 NaN                NaN   \n",
      "2                 NaN                 NaN                NaN   \n",
      "3                 NaN                 NaN                NaN   \n",
      "4                 NaN                 NaN                NaN   \n",
      "\n",
      "   fishing_hours_2020  \n",
      "0              674.10  \n",
      "1              144.43  \n",
      "2              545.33  \n",
      "3              587.01  \n",
      "4              318.22  \n",
      "\n",
      "[5 rows x 28 columns]\n"
     ]
    }
   ],
   "source": [
    "print(file_2019.head())\n",
    "print(file_2020.head())\n",
    "print(vessels.head())"
   ]
  },
  {
   "cell_type": "code",
   "execution_count": 6,
   "id": "09bbd7b9-cdf9-4cee-a90c-572242a95db9",
   "metadata": {},
   "outputs": [],
   "source": [
    "vessels.drop(['flag_ais','registries_listed','fishing_hours_2012', 'fishing_hours_2013', 'fishing_hours_2014', 'fishing_hours_2015', 'fishing_hours_2016','fishing_hours_2017','fishing_hours_2018'],axis=1,inplace=True)"
   ]
  },
  {
   "cell_type": "code",
   "execution_count": 7,
   "id": "58e93612-c63b-432f-a1b5-d3ff3b172583",
   "metadata": {},
   "outputs": [],
   "source": [
    "data_frames = [file_2019,file_2020]\n",
    "\n",
    "df = pd.concat(data_frames, ignore_index=True)"
   ]
  },
  {
   "cell_type": "code",
   "execution_count": 8,
   "id": "c1cd0e9b-042a-4e5e-bdb8-248919282da5",
   "metadata": {},
   "outputs": [],
   "source": [
    "def get_season(month):\n",
    "    if month in [12, 1, 2]:\n",
    "        return 'Winter'\n",
    "    elif month in [3, 4, 5]:\n",
    "        return 'Spring'\n",
    "    elif month in [6, 7, 8]:\n",
    "        return 'Summer'\n",
    "    elif month in [9, 10, 11]:\n",
    "        return 'Fall'\n",
    "df['date'] = pd.to_datetime(df['date'])\n",
    "df['season'] = df['date'].dt.month.apply(get_season)"
   ]
  },
  {
   "cell_type": "code",
   "execution_count": 9,
   "id": "0e922268-588e-4b14-9ec0-4598d635f989",
   "metadata": {},
   "outputs": [],
   "source": [
    "df.to_csv('MMSI-daily-merged_2019_2020.csv', index=False)\n",
    "vessels.to_csv('vessels_dropped.csv',index=False)"
   ]
  },
  {
   "cell_type": "code",
   "execution_count": 10,
   "id": "c97850f5-da0c-4122-a84e-ce628aa14bfb",
   "metadata": {},
   "outputs": [],
   "source": [
    "del df, vessels, file_2019, file_2020, data_frames"
   ]
  },
  {
   "cell_type": "code",
   "execution_count": 11,
   "id": "d7934364-9f79-4950-8fc2-d031ef13643a",
   "metadata": {},
   "outputs": [
    {
     "name": "stdout",
     "output_type": "stream",
     "text": [
      "Processed chunk 1\n",
      "Processed chunk 2\n",
      "Processed chunk 3\n",
      "Processed chunk 4\n",
      "Processed chunk 5\n",
      "Processed chunk 6\n",
      "Processed chunk 7\n",
      "Processed chunk 8\n",
      "Processed chunk 9\n",
      "Processed chunk 10\n",
      "Processed chunk 11\n",
      "Processed chunk 12\n",
      "Processed chunk 13\n",
      "Processed chunk 14\n",
      "Processed chunk 15\n",
      "Processed chunk 16\n",
      "Processed chunk 17\n",
      "Processed chunk 18\n",
      "Processed chunk 19\n",
      "Processed chunk 20\n",
      "Processed chunk 21\n",
      "Processed chunk 22\n",
      "Processed chunk 23\n",
      "Processed chunk 24\n",
      "Processed chunk 25\n",
      "Processed chunk 26\n",
      "Processed chunk 27\n",
      "Processed chunk 28\n",
      "Processed chunk 29\n",
      "Processed chunk 30\n",
      "Processed chunk 31\n",
      "Processed chunk 32\n",
      "Processed chunk 33\n",
      "Processed chunk 34\n",
      "Processed chunk 35\n",
      "Processed chunk 36\n",
      "Processed chunk 37\n",
      "Processed chunk 38\n",
      "Processed chunk 39\n",
      "Processed chunk 40\n",
      "Processed chunk 41\n",
      "Processed chunk 42\n",
      "Processed chunk 43\n",
      "Processed chunk 44\n",
      "Processed chunk 45\n",
      "Processed chunk 46\n",
      "Processed chunk 47\n",
      "Processed chunk 48\n",
      "Processed chunk 49\n",
      "Processed chunk 50\n",
      "Processed chunk 51\n",
      "Processed chunk 52\n",
      "Processed chunk 53\n",
      "Processed chunk 54\n",
      "Processed chunk 55\n",
      "Processed chunk 56\n",
      "Processed chunk 57\n",
      "Processed chunk 58\n",
      "Processed chunk 59\n",
      "Processed chunk 60\n",
      "Processed chunk 61\n",
      "Processed chunk 62\n",
      "Processed chunk 63\n",
      "Processed chunk 64\n",
      "Processed chunk 65\n",
      "Processed chunk 66\n",
      "Processed chunk 67\n",
      "Processed chunk 68\n",
      "Processed chunk 69\n",
      "Processed chunk 70\n",
      "Processed chunk 71\n",
      "Processed chunk 72\n",
      "Done\n"
     ]
    }
   ],
   "source": [
    "import pandas as pd\n",
    "\n",
    "#File paths, adjust if needed\n",
    "fishing_effort = \"MMSI-daily-merged_2019_2020.csv\"\n",
    "vessels = \"vessels_dropped.csv\"\n",
    "output = \"MMSI-daily_merged_2019_2020-vessels-gfw-seasons.csv\"\n",
    "\n",
    "small_df = pd.read_csv(vessels, dtype={\"mmsi\": \"int32\"})  \n",
    "\n",
    "# Define chunk size based on memory constraints (adjust if needed)\n",
    "chunksize = 1500000  \n",
    "\n",
    "with pd.read_csv(fishing_effort, chunksize=chunksize, dtype={\"mmsi\": \"int32\"}) as reader:\n",
    "    for i, chunk in enumerate(reader):\n",
    "        merged_chunk = chunk.merge(small_df, on=\"mmsi\", how=\"left\")\n",
    "\n",
    "        mode = \"w\" if i == 0 else \"a\"\n",
    "        header = i == 0\n",
    "        merged_chunk.to_csv(output, mode=mode, index=False, header=header)\n",
    "\n",
    "        print(f\"Processed chunk {i+1}\")\n",
    "\n",
    "print(\"Done\")"
   ]
  }
 ],
 "metadata": {
  "kernelspec": {
   "display_name": "Python 3 (ipykernel)",
   "language": "python",
   "name": "python3"
  },
  "language_info": {
   "codemirror_mode": {
    "name": "ipython",
    "version": 3
   },
   "file_extension": ".py",
   "mimetype": "text/x-python",
   "name": "python",
   "nbconvert_exporter": "python",
   "pygments_lexer": "ipython3",
   "version": "3.11.5"
  }
 },
 "nbformat": 4,
 "nbformat_minor": 5
}

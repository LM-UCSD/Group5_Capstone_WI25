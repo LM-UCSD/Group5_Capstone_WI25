{
 "cells": [
  {
   "cell_type": "code",
   "execution_count": 8,
   "id": "a060c306-6aa4-4d83-886d-237aa8773bed",
   "metadata": {},
   "outputs": [],
   "source": [
    "import pickle\n",
    "import pandas as pd\n",
    "import requests\n",
    "import io\n",
    "import zipfile\n",
    "import os\n",
    "\n",
    "from sklearn.metrics import mean_squared_error,mean_absolute_error, r2_score"
   ]
  },
  {
   "cell_type": "code",
   "execution_count": 2,
   "id": "c52e9b86-2054-420f-b159-e8bb42579cf8",
   "metadata": {},
   "outputs": [],
   "source": [
    "url = 'https://github.com/LM-UCSD/Group5_Capstone_WI25/raw/main/models/lr_model.pkl'\n",
    "\n",
    "response = requests.get(url)\n",
    "lr_model = pickle.load(io.BytesIO(response.content))"
   ]
  },
  {
   "cell_type": "code",
   "execution_count": 3,
   "id": "330f2a2d-82e3-439d-921e-299a70ff636e",
   "metadata": {},
   "outputs": [],
   "source": [
    "url = 'https://github.com/LM-UCSD/Group5_Capstone_WI25/raw/main/models/rf_model.pkl'\n",
    "\n",
    "response = requests.get(url)\n",
    "rf_model = pickle.load(io.BytesIO(response.content))"
   ]
  },
  {
   "cell_type": "code",
   "execution_count": 4,
   "id": "10a50fe9-1cf6-4d12-b1f2-ea923f93457f",
   "metadata": {},
   "outputs": [],
   "source": [
    "url = 'https://github.com/LM-UCSD/Group5_Capstone_WI25/raw/main/models/xgb_model.pkl'\n",
    "\n",
    "response = requests.get(url)\n",
    "xgb_model = pickle.load(io.BytesIO(response.content))"
   ]
  },
  {
   "cell_type": "code",
   "execution_count": 5,
   "id": "aec2cf8b-e0a6-4598-b340-572527b31c8a",
   "metadata": {},
   "outputs": [
    {
     "name": "stdout",
     "output_type": "stream",
     "text": [
      "Linear Regression Model: LinearRegression()\n",
      "Random Forest Model: MultiOutputRegressor(estimator=RandomForestRegressor(n_estimators=5, n_jobs=-1,\n",
      "                                                     random_state=20))\n",
      "XG Boosting Model: MultiOutputRegressor(estimator=XGBRegressor(base_score=None, booster=None,\n",
      "                                            callbacks=None,\n",
      "                                            colsample_bylevel=None,\n",
      "                                            colsample_bynode=None,\n",
      "                                            colsample_bytree=None,\n",
      "                                            device='cuda',\n",
      "                                            early_stopping_rounds=None,\n",
      "                                            enable_categorical=False,\n",
      "                                            eval_metric=None,\n",
      "                                            feature_types=None, gamma=None,\n",
      "                                            grow_policy=None,\n",
      "                                            importance_type=None,\n",
      "                                            interaction_constraints=None,\n",
      "                                            learning_rate=None, max_bin=None,\n",
      "                                            max_cat_threshold=None,\n",
      "                                            max_cat_to_onehot=None,\n",
      "                                            max_delta_step=None, max_depth=None,\n",
      "                                            max_leaves=None,\n",
      "                                            min_child_weight=None, missing=nan,\n",
      "                                            monotone_constraints=None,\n",
      "                                            multi_strategy=None, n_estimators=5,\n",
      "                                            n_jobs=-1, num_parallel_tree=None,\n",
      "                                            random_state=20, ...))\n"
     ]
    }
   ],
   "source": [
    "print(\"Linear Regression Model:\", lr_model)\n",
    "print(\"Random Forest Model:\", rf_model)\n",
    "print(\"XG Boosting Model:\", xgb_model)"
   ]
  },
  {
   "cell_type": "code",
   "execution_count": 13,
   "id": "21b99237-f4d5-4fac-9a78-e1d06772968b",
   "metadata": {},
   "outputs": [],
   "source": [
    "## Load Aggregate Sampled Data from Notebook 3\n",
    "\n",
    "url = 'https://github.com/LM-UCSD/Group5_Capstone_WI25/raw/main/data/Train_Test.zip'\n",
    "\n",
    "response = requests.get(url)\n",
    "\n",
    "with open('Train_Test.zip', 'wb') as f:\n",
    "    f.write(response.content)\n",
    "\n",
    "unzip_dir = os.getcwd()\n",
    "\n",
    "with zipfile.ZipFile('Train_Test.zip', 'r') as zip_ref:\n",
    "    zip_ref.extractall(unzip_dir)\n",
    "\n",
    "X_test = pd.read_csv(os.path.join(unzip_dir, 'Train_Test/X_test.csv'), index_col=0)\n",
    "\n",
    "y_test = pd.read_csv(os.path.join(unzip_dir, 'Train_Test/y_test.csv'),index_col=0)"
   ]
  },
  {
   "cell_type": "code",
   "execution_count": null,
   "id": "cc1c560b-7218-440f-9388-35c32788fb7e",
   "metadata": {},
   "outputs": [
    {
     "name": "stderr",
     "output_type": "stream",
     "text": [
      "C:\\Users\\Zigma\\AppData\\Local\\Programs\\Python\\Python311\\Lib\\site-packages\\xgboost\\core.py:158: UserWarning: [20:55:00] WARNING: C:\\buildkite-agent\\builds\\buildkite-windows-cpu-autoscaling-group-i-08cbc0333d8d4aae1-1\\xgboost\\xgboost-ci-windows\\src\\common\\error_msg.cc:58: Falling back to prediction using DMatrix due to mismatched devices. This might lead to higher memory usage and slower performance. XGBoost is running on: cuda:0, while the input data is on: cpu.\n",
      "Potential solutions:\n",
      "- Use a data structure that matches the device ordinal in the booster.\n",
      "- Set the device for booster before call to inplace_predict.\n",
      "\n",
      "This warning will only be shown once.\n",
      "\n",
      "  warnings.warn(smsg, UserWarning)\n"
     ]
    }
   ],
   "source": [
    "lr_preds = lr_model.predict(X_test)\n",
    "rf_preds = rf_model.predict(X_test)\n",
    "xgb_preds = xgb_model.predict(X_test)"
   ]
  },
  {
   "cell_type": "code",
   "execution_count": null,
   "id": "7c96d432-0439-4681-acbd-219fd1395ffd",
   "metadata": {},
   "outputs": [],
   "source": [
    "## RMSE, MAE, R^2?\n",
    "\n",
    "lr_rmse = mean_squared_error(y_test, lr_preds, squared=False)\n",
    "print(f'Linear Regression RMSE: {lr_rmse.mean()}')\n",
    "\n",
    "rf_rmse = mean_squared_error(y_test, rf_preds, squared=False, multioutput='raw_values')\n",
    "print(f'Random Forest RMSE per flag: {rf_rmse.mean()}')\n",
    "\n",
    "xgb_rmse = mean_squared_error(y_test, xgb_preds, squared=False, multioutput='raw_values')\n",
    "print(f'Gradient Boosting RMSE per flag: {xgb_rmse.mean()}')\n",
    "\n",
    "lr_mae = mean_absolute_error(y_test, lr_preds)\n",
    "print(f'Linear Regression MAE: {lr_mae}')\n",
    "\n",
    "rf_mae = mean_absolute_error(y_test, rf_preds)\n",
    "print(f'Random Forest MAE per flag: {rf_mae}')\n",
    "\n",
    "xgb_mae = mean_absolute_error(y_test, xgb_preds)\n",
    "print(f'Gradient Boosting MAE per flag: {xgb_mae}')\n",
    "\n",
    "overall_r2_lr = r2_score(y_test, lr_preds)\n",
    "overall_r2_rf = r2_score(y_test, rf_preds)\n",
    "overall_r2_xgb = r2_score(y_test, xgb_preds)\n",
    "\n",
    "print(\"Overall R^2 (Linear Regression):\", overall_r2_lr)\n",
    "print(\"Overall R^2 (Random Forest):\", overall_r2_rf)\n",
    "print(\"Overall R^2 (XG Gradient Boosting):\", overall_r2_xgb)"
   ]
  }
 ],
 "metadata": {
  "kernelspec": {
   "display_name": "Python 3 (ipykernel)",
   "language": "python",
   "name": "python3"
  },
  "language_info": {
   "codemirror_mode": {
    "name": "ipython",
    "version": 3
   },
   "file_extension": ".py",
   "mimetype": "text/x-python",
   "name": "python",
   "nbconvert_exporter": "python",
   "pygments_lexer": "ipython3",
   "version": "3.11.5"
  }
 },
 "nbformat": 4,
 "nbformat_minor": 5
}

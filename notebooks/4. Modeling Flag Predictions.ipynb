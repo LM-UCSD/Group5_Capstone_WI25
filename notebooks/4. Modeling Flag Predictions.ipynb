{
 "cells": [
  {
   "cell_type": "code",
   "execution_count": 34,
   "id": "1b912367-16ab-492d-a534-f11f5f3e748d",
   "metadata": {},
   "outputs": [],
   "source": [
    "## Imports\n",
    "\n",
    "import json\n",
    "import pickle\n",
    "import polars as pl\n",
    "import pandas as pd\n",
    "import numpy as np\n",
    "import matplotlib.pyplot as plt\n",
    "import seaborn as sns\n",
    "import xgboost as xgb\n",
    "\n",
    "from sklearn.model_selection import train_test_split, cross_val_score\n",
    "from sklearn.linear_model import LinearRegression\n",
    "from sklearn.multioutput import MultiOutputRegressor\n",
    "from sklearn.ensemble import RandomForestClassifier, GradientBoostingClassifier\n",
    "from sklearn.metrics import classification_report, confusion_matrix, precision_score, recall_score, f1_score\n",
    "from sklearn.preprocessing import LabelEncoder\n",
    "from sklearn.metrics import mean_squared_error"
   ]
  },
  {
   "cell_type": "code",
   "execution_count": 22,
   "id": "f4047eac-0390-4fcb-b97c-edfe4987ffda",
   "metadata": {},
   "outputs": [],
   "source": [
    "# Define data types for each column\n",
    "dtypes = {\n",
    "    \"date\": pl.Utf8,\n",
    "    \"cell_ll_lat\": pl.Float32,\n",
    "    \"cell_ll_lon\": pl.Float32,\n",
    "    \"mmsi\": pl.Int32,\n",
    "    \"hours\": pl.Float32,\n",
    "    \"fishing_hours\": pl.Float32,\n",
    "    \"flag_registry\": pl.Categorical,\n",
    "    \"flag_gfw\": pl.Categorical, \n",
    "    \"vessel_class_registry\": pl.Categorical,\n",
    "    \"season\": pl.Categorical\n",
    "}\n",
    "\n",
    "# Read CSV lazily using Polars\n",
    "df_lazy = pl.scan_csv('MMSI-daily_merged_2019_2020-vessels-gfw-seasons.csv', schema_overrides=dtypes)\n",
    "\n",
    "# Drop rows where flag_registry is missing\n",
    "df_lazy = df_lazy.filter(pl.col(\"flag_registry\").is_not_null())\n",
    "\n",
    "# Drop flag_gfw and date\n",
    "df_lazy = df_lazy.drop([\"flag_gfw\",'date'])"
   ]
  },
  {
   "cell_type": "code",
   "execution_count": 23,
   "id": "f8b2f3c0-0121-4b4e-aa19-f6cd5b281f99",
   "metadata": {},
   "outputs": [],
   "source": [
    "# Sample rows to reduce memory usage (here at 5%)\n",
    "df_lazy = df_lazy.with_row_index(\"index\")\n",
    "row_count_df = df_lazy.select(pl.count(\"index\").alias(\"row_count\")).collect()\n",
    "row_count = row_count_df[\"row_count\"][0]\n",
    "sample_n = int(0.15 * row_count)\n",
    "sample_indices = sorted(np.random.choice(row_count, size=sample_n, replace=False))\n",
    "df_lazy = df_lazy.filter(pl.col(\"index\").is_in(sample_indices)).drop(\"index\")"
   ]
  },
  {
   "cell_type": "code",
   "execution_count": 24,
   "id": "1ac5f7ac-2bb5-41d8-9c49-c56347958756",
   "metadata": {},
   "outputs": [],
   "source": [
    "# Collect the lazy frame\n",
    "df_polars = df_lazy.collect()\n",
    "\n",
    "# Convert to pandas DataFrame\n",
    "df = df_polars.to_pandas()"
   ]
  },
  {
   "cell_type": "code",
   "execution_count": 25,
   "id": "6d05a7c1-7fc2-4b6e-adf4-bbf3b2f41963",
   "metadata": {},
   "outputs": [],
   "source": [
    "# Create dummy variables for season. Since season is a key feature, we generate dummies here.\n",
    "df = pd.get_dummies(df, columns=['season'], drop_first=True)\n",
    "\n",
    "# Create dummy variables for vessel class\n",
    "df = pd.get_dummies(df, columns=['vessel_class_registry'], drop_first=True)\n",
    "\n",
    "# Define feature columns: location, hours, fishing_hours, season dummies, and vessel class dummies.\n",
    "features = ['cell_ll_lat', 'cell_ll_lon', 'hours', 'fishing_hours'] + \\\n",
    "           [col for col in df.columns if col.startswith('season_') or col.startswith('vessel_class_registry_')]\n",
    "\n",
    "# Target variable: flag_registry (vessel flag)\n",
    "target = 'flag_registry'\n",
    "\n",
    "# Encode the target variable\n",
    "le = LabelEncoder()\n",
    "df[target] = le.fit_transform(df[target])\n",
    "\n",
    "# Define X and y\n",
    "X = df[features]\n",
    "y = df[target]\n",
    "\n",
    "# Split the data into training and testing sets\n",
    "X_train, X_test, y_train, y_test = train_test_split(X, y, test_size=0.2, random_state=20)\n",
    "\n",
    "# Deleting unnecessary dataframes to free up memory\n",
    "del df, df_lazy, df_polars"
   ]
  },
  {
   "cell_type": "code",
   "execution_count": 26,
   "id": "735a2645-5205-40ca-8924-53fe9e8a2034",
   "metadata": {},
   "outputs": [
    {
     "name": "stdout",
     "output_type": "stream",
     "text": [
      "Linear Regression RMSE: 30.695089700861498\n"
     ]
    }
   ],
   "source": [
    "# Logistic Regression Model\n",
    "lr_model = LinearRegression()\n",
    "lr_model.fit(X_train, y_train)\n",
    "lr_preds = lr_model.predict(X_test)\n",
    "lr_rmse = mean_squared_error(y_test, lr_preds, squared=False)\n",
    "print(f'Linear Regression RMSE: {lr_rmse}')"
   ]
  },
  {
   "cell_type": "code",
   "execution_count": 27,
   "id": "36eebda7-0e38-4964-b9fd-05ece8da5395",
   "metadata": {},
   "outputs": [
    {
     "name": "stdout",
     "output_type": "stream",
     "text": [
      "Random Forest RMSE per flag: [21.20211801]\n"
     ]
    }
   ],
   "source": [
    "# Random Forest Classifier\n",
    "rf_model = RandomForestClassifier(n_estimators=5, random_state=20, n_jobs=-1)\n",
    "rf_model.fit(X_train, y_train)\n",
    "rf_preds = rf_model.predict(X_test)\n",
    "rf_rmse = mean_squared_error(y_test, rf_preds, squared=False, multioutput='raw_values')\n",
    "print(f'Random Forest RMSE per flag: {rf_rmse}')"
   ]
  },
  {
   "cell_type": "code",
   "execution_count": 28,
   "id": "585534d6-ab6f-4363-a43e-e03418991558",
   "metadata": {},
   "outputs": [
    {
     "name": "stdout",
     "output_type": "stream",
     "text": [
      "XGBoost RMSE per flag: 23.677865608819122\n"
     ]
    }
   ],
   "source": [
    "#Extreme Gradient Boosting (XGBoost)\n",
    "xgb_model = xgb.XGBRegressor(n_estimators=5, random_state=20, tree_method='hist', device='cuda', n_jobs=-1)\n",
    "xgb_model.fit(X_train, y_train)\n",
    "xgb_preds = xgb_model.predict(X_test)\n",
    "xgb_rmse = mean_squared_error(y_test, xgb_preds, squared=False)\n",
    "print(f'XGBoost RMSE per flag: {xgb_rmse}')"
   ]
  },
  {
   "cell_type": "code",
   "execution_count": 29,
   "id": "cb07a219-3945-4f57-9a38-c2050786bdde",
   "metadata": {},
   "outputs": [
    {
     "data": {
      "image/png": "[encoded data removed]",
      "text/plain": [
       "<Figure size 800x500 with 1 Axes>"
      ]
     },
     "metadata": {},
     "output_type": "display_data"
    }
   ],
   "source": [
    "# Root Mean Squared Error (RMSE) Comparison\n",
    "\n",
    "rmse_scores = {\"Linear Regression\":lr_rmse,\"Random Forest\": rf_rmse.mean(), \"XGBoost\": xgb_rmse.mean()}\n",
    "plt.figure(figsize=(8, 5))\n",
    "sns.barplot(x=list(rmse_scores.keys()), y=list(rmse_scores.values()))\n",
    "plt.ylabel(\"Average RMSE per Flag\")\n",
    "plt.title(\"RMSE Comparison Across Models\")\n",
    "plt.show()"
   ]
  },
  {
   "cell_type": "code",
   "execution_count": 43,
   "id": "b53f4687-e19e-4ced-adb1-5bd96939f260",
   "metadata": {},
   "outputs": [
    {
     "name": "stdout",
     "output_type": "stream",
     "text": [
      "Classification Report (Random Forest):\n",
      "              precision    recall  f1-score   support\n",
      "\n",
      "         AGO       0.66      0.71      0.69      1511\n",
      "         ALB       0.83      0.80      0.82       146\n",
      "         ARG       0.98      0.99      0.98     35405\n",
      "         AUS       0.86      0.89      0.88      4208\n",
      "         BEL       0.52      0.53      0.53      7819\n",
      "         BGR       0.97      0.98      0.98      2758\n",
      "         BLZ       0.28      0.27      0.28      3447\n",
      "         BRA       0.70      0.69      0.69      2107\n",
      "         CAN       0.92      0.93      0.92     27206\n",
      "         CHL       0.94      0.96      0.95     12095\n",
      "         CHN       0.78      0.85      0.81    227368\n",
      "         CIV       0.33      0.26      0.29       684\n",
      "         CMR       0.25      0.29      0.27      1252\n",
      "         COK       0.49      0.38      0.43      2377\n",
      "         COL       0.48      0.58      0.52      4209\n",
      "         CPV       0.10      0.08      0.09       239\n",
      "         CUB       0.00      0.00      0.00         2\n",
      "         CUW       0.23      0.21      0.22      1143\n",
      "         CYP       0.82      0.59      0.69      2286\n",
      "         DEU       0.55      0.55      0.55     13095\n",
      "         DNK       0.68      0.70      0.69     27469\n",
      "         DZA       0.55      0.51      0.53       161\n",
      "         ECU       0.59      0.67      0.63      8542\n",
      "         EGY       0.67      0.31      0.42        13\n",
      "         ESP       0.84      0.88      0.86    164548\n",
      "         EST       0.60      0.61      0.60      4053\n",
      "         FIN       0.82      0.81      0.81      3506\n",
      "         FJI       0.66      0.57      0.61      8817\n",
      "         FLK       0.79      0.79      0.79      6295\n",
      "         FRA       0.85      0.86      0.85     87901\n",
      "         FRO       0.78      0.78      0.78     18871\n",
      "         FSM       0.28      0.28      0.28     11251\n",
      "         GBR       0.80      0.80      0.80     50777\n",
      "         GEO       0.47      0.42      0.45      1635\n",
      "         GHA       0.75      0.82      0.79      9213\n",
      "         GIN       0.85      0.91      0.88       616\n",
      "         GMB       0.58      0.26      0.36        53\n",
      "         GNB       0.60      0.51      0.55      1026\n",
      "         GRC       0.93      0.96      0.94     11550\n",
      "         GRL       0.70      0.68      0.69      9808\n",
      "         GTM       0.19      0.12      0.15       404\n",
      "         HND       0.95      0.90      0.93        90\n",
      "         HRV       0.97      0.93      0.95      8559\n",
      "         IDN       0.89      0.90      0.90      7797\n",
      "         IND       0.86      0.43      0.58        69\n",
      "         IRL       0.77      0.73      0.75     15136\n",
      "         IRN       0.88      0.84      0.86       220\n",
      "         ISL       0.95      0.95      0.95     54762\n",
      "         ITA       0.98      0.99      0.98     81500\n",
      "         JPN       0.79      0.81      0.80    126227\n",
      "         KEN       0.57      0.45      0.50       519\n",
      "         KIR       0.24      0.22      0.23      2166\n",
      "         KNA       0.77      0.67      0.72       258\n",
      "         KOR       0.66      0.64      0.65     66631\n",
      "         LBR       0.20      0.08      0.11      1048\n",
      "         LBY       0.62      0.48      0.54        98\n",
      "         LTU       0.34      0.28      0.31      3008\n",
      "         LVA       0.78      0.73      0.76      3181\n",
      "         MAR       0.96      0.97      0.96      5133\n",
      "         MDG       0.44      0.53      0.48        15\n",
      "         MEX       0.88      0.90      0.89      9766\n",
      "         MHL       0.33      0.30      0.32      4465\n",
      "         MLT       0.89      0.70      0.78       972\n",
      "         MNG       0.50      0.20      0.29        20\n",
      "         MOZ       0.79      0.85      0.82       619\n",
      "         MRT       0.46      0.46      0.46       503\n",
      "         MUS       0.69      0.60      0.65      1432\n",
      "         MYS       0.58      0.50      0.54      1549\n",
      "         NAM       0.89      0.88      0.88      6239\n",
      "         NCL       0.94      0.92      0.93      5292\n",
      "         NGA       0.88      0.58      0.70       103\n",
      "         NIC       0.24      0.13      0.17       346\n",
      "         NLD       0.78      0.77      0.78     29016\n",
      "         NOR       0.93      0.93      0.93    175440\n",
      "         NRU       0.18      0.15      0.16      3635\n",
      "         NZL       0.98      0.97      0.98     17364\n",
      "         PAN       0.35      0.21      0.26      2743\n",
      "         PER       0.98      0.98      0.98     14543\n",
      "         PHL       0.56      0.54      0.55      4364\n",
      "         PNG       0.28      0.17      0.21      3991\n",
      "         POL       0.81      0.70      0.75      3246\n",
      "         PRT       0.84      0.76      0.80     37531\n",
      "         PYF       0.85      0.87      0.86      2220\n",
      "         REU       0.42      0.38      0.40       555\n",
      "         ROU       0.99      0.88      0.93       147\n",
      "         RUS       0.92      0.92      0.92    183571\n",
      "         SEN       0.63      0.52      0.57      3685\n",
      "         SHN       0.47      0.35      0.40       390\n",
      "         SLB       0.06      0.03      0.04       490\n",
      "         SLV       0.30      0.18      0.23      1174\n",
      "         SOM       1.00      0.69      0.82        13\n",
      "         SVN       0.88      0.54      0.67       113\n",
      "         SWE       0.69      0.59      0.63      9074\n",
      "         SYC       0.55      0.52      0.54      8009\n",
      "         THA       0.86      0.59      0.70       116\n",
      "         TUN       0.65      0.27      0.38       415\n",
      "         TUR       0.94      0.92      0.93     11103\n",
      "         TUV       0.06      0.03      0.04       176\n",
      "         TWN       0.74      0.71      0.73    186566\n",
      "         TZA       0.00      0.00      0.00         3\n",
      "         UKR       0.56      0.44      0.49      1363\n",
      "         UNK       0.41      0.15      0.21       357\n",
      "         URY       0.75      0.71      0.73      2024\n",
      "         USA       0.96      0.95      0.95    164127\n",
      "         VCT       0.94      0.89      0.92       180\n",
      "         VEN       0.59      0.42      0.49      2671\n",
      "         VUT       0.56      0.34      0.42     20219\n",
      "         ZAF       0.95      0.91      0.93      8397\n",
      "\n",
      "    accuracy                           0.83   2082620\n",
      "   macro avg       0.66      0.60      0.62   2082620\n",
      "weighted avg       0.83      0.83      0.83   2082620\n",
      "\n"
     ]
    }
   ],
   "source": [
    "# Print a detailed classification report for one model (e.g., Random Forest)\n",
    "\n",
    "unique_labels = np.unique(y_test)\n",
    "target_names = le.inverse_transform(unique_labels)\n",
    "print(\"Classification Report (Random Forest):\")\n",
    "print(classification_report(y_test, rf_preds, target_names=target_names, zero_division=0))"
   ]
  },
  {
   "cell_type": "code",
   "execution_count": 45,
   "id": "d48bcc07-eeb2-4487-b409-278d151f6b2e",
   "metadata": {},
   "outputs": [
    {
     "data": {
      "image/png": "[encoded data removed]",
      "text/plain": [
       "<Figure size 1000x500 with 1 Axes>"
      ]
     },
     "metadata": {},
     "output_type": "display_data"
    }
   ],
   "source": [
    "fi = pd.Series(rf_model.estimators_[0].feature_importances_, index=features)\n",
    "vessel_class_mask = fi.index.str.startswith('vessel_class_registry_')\n",
    "vessel_class_importance = fi[vessel_class_mask].sum()\n",
    "fi_grouped = fi[~vessel_class_mask].copy()\n",
    "fi_grouped['vessel_class_registry'] = vessel_class_importance\n",
    "\n",
    "fi_grouped = fi_grouped.sort_values(ascending=False)\n",
    "\n",
    "plt.figure(figsize=(10, 5))\n",
    "sns.barplot(x=fi_grouped, y=fi_grouped.index)\n",
    "plt.title(\"Grouped Feature Importance (Random Forest)\")\n",
    "plt.xlabel(\"Importance\")\n",
    "plt.ylabel(\"Feature\")\n",
    "plt.show()"
   ]
  },
  {
   "cell_type": "code",
   "execution_count": 44,
   "id": "15828d34-4a2b-4253-906b-f6cc2f113924",
   "metadata": {},
   "outputs": [
    {
     "name": "stdout",
     "output_type": "stream",
     "text": [
      "Models saved as 'Flag_Predicitions_lr_model.pkl', 'Flag_Predicitions_rf_model.pkl', and 'Flag_Predicitions_xgb_model.pkl'.\n"
     ]
    }
   ],
   "source": [
    "with open('Flag_Predictions_lr_model.pkl', 'wb') as f:\n",
    "    pickle.dump(lr_model, f)\n",
    "\n",
    "with open('Flag_Predicitions_rf_model.pkl', 'wb') as f:\n",
    "    pickle.dump(rf_model, f)\n",
    "\n",
    "with open('Flag_Predicitions_xgb_model.pkl', 'wb') as f:\n",
    "    pickle.dump(xgb_model, f)\n",
    "\n",
    "print(\"Models saved as 'Flag_Predicitions_lr_model.pkl', 'Flag_Predicitions_rf_model.pkl', and 'Flag_Predicitions_xgb_model.pkl'.\")"
   ]
  }
 ],
 "metadata": {
  "kernelspec": {
   "display_name": "Python 3 (ipykernel)",
   "language": "python",
   "name": "python3"
  },
  "language_info": {
   "codemirror_mode": {
    "name": "ipython",
    "version": 3
   },
   "file_extension": ".py",
   "mimetype": "text/x-python",
   "name": "python",
   "nbconvert_exporter": "python",
   "pygments_lexer": "ipython3",
   "version": "3.11.5"
  }
 },
 "nbformat": 4,
 "nbformat_minor": 5
}

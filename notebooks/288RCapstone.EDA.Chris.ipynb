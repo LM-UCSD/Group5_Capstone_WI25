{
 "cells": [
  {
   "cell_type": "code",
   "execution_count": 1,
   "metadata": {},
   "outputs": [],
   "source": [
    "import pandas as pd\n",
    "import polars as pl"
   ]
  },
  {
   "cell_type": "code",
   "execution_count": 2,
   "metadata": {},
   "outputs": [],
   "source": [
    "#read in vessel labels data\n",
    "vesselLabelsDF = pl.read_csv('fishing-vessels-v2.csv', infer_schema_length=10000)"
   ]
  },
  {
   "cell_type": "code",
   "execution_count": 3,
   "metadata": {},
   "outputs": [
    {
     "data": {
      "text/html": [
       "<div><style>\n",
       ".dataframe > thead > tr,\n",
       ".dataframe > tbody > tr {\n",
       "  text-align: right;\n",
       "  white-space: pre-wrap;\n",
       "}\n",
       "</style>\n",
       "<small>shape: (114_191, 28)</small><table border=\"1\" class=\"dataframe\"><thead><tr><th>mmsi</th><th>flag_ais</th><th>flag_registry</th><th>flag_gfw</th><th>vessel_class_inferred</th><th>vessel_class_inferred_score</th><th>vessel_class_registry</th><th>vessel_class_gfw</th><th>self_reported_fishing_vessel</th><th>length_m_inferred</th><th>length_m_registry</th><th>length_m_gfw</th><th>engine_power_kw_inferred</th><th>engine_power_kw_registry</th><th>engine_power_kw_gfw</th><th>tonnage_gt_inferred</th><th>tonnage_gt_registry</th><th>tonnage_gt_gfw</th><th>registries_listed</th><th>fishing_hours_2012</th><th>fishing_hours_2013</th><th>fishing_hours_2014</th><th>fishing_hours_2015</th><th>fishing_hours_2016</th><th>fishing_hours_2017</th><th>fishing_hours_2018</th><th>fishing_hours_2019</th><th>fishing_hours_2020</th></tr><tr><td>i64</td><td>str</td><td>str</td><td>str</td><td>str</td><td>str</td><td>str</td><td>str</td><td>str</td><td>str</td><td>str</td><td>str</td><td>str</td><td>str</td><td>str</td><td>str</td><td>str</td><td>str</td><td>str</td><td>str</td><td>str</td><td>str</td><td>str</td><td>str</td><td>str</td><td>str</td><td>str</td><td>str</td></tr></thead><tbody><tr><td>40120000</td><td>&quot;NA&quot;</td><td>&quot;GRC&quot;</td><td>&quot;GRC&quot;</td><td>&quot;NA&quot;</td><td>&quot;NA&quot;</td><td>&quot;trawlers&quot;</td><td>&quot;trawlers&quot;</td><td>&quot;TRUE&quot;</td><td>&quot;NA&quot;</td><td>&quot;26.3&quot;</td><td>&quot;26.3&quot;</td><td>&quot;NA&quot;</td><td>&quot;176.4&quot;</td><td>&quot;176.4&quot;</td><td>&quot;NA&quot;</td><td>&quot;133&quot;</td><td>&quot;133&quot;</td><td>&quot;EU|GFCM|IMO&quot;</td><td>&quot;NA&quot;</td><td>&quot;NA&quot;</td><td>&quot;NA&quot;</td><td>&quot;NA&quot;</td><td>&quot;NA&quot;</td><td>&quot;NA&quot;</td><td>&quot;NA&quot;</td><td>&quot;NA&quot;</td><td>&quot;674.1&quot;</td></tr><tr><td>444002410</td><td>&quot;NA&quot;</td><td>&quot;KOR&quot;</td><td>&quot;KOR&quot;</td><td>&quot;NA&quot;</td><td>&quot;NA&quot;</td><td>&quot;tuna_purse_seines&quot;</td><td>&quot;tuna_purse_seines&quot;</td><td>&quot;FALSE&quot;</td><td>&quot;NA&quot;</td><td>&quot;79.6&quot;</td><td>&quot;79.6&quot;</td><td>&quot;NA&quot;</td><td>&quot;3256.29&quot;</td><td>&quot;3256.29&quot;</td><td>&quot;NA&quot;</td><td>&quot;2132.33&quot;</td><td>&quot;2132.33&quot;</td><td>&quot;FFA|IMO|ISSF|KOR|WCPFC|WCPFC2&quot;</td><td>&quot;NA&quot;</td><td>&quot;NA&quot;</td><td>&quot;NA&quot;</td><td>&quot;NA&quot;</td><td>&quot;NA&quot;</td><td>&quot;NA&quot;</td><td>&quot;NA&quot;</td><td>&quot;NA&quot;</td><td>&quot;144.43&quot;</td></tr><tr><td>987654320</td><td>&quot;NA&quot;</td><td>&quot;PHL&quot;</td><td>&quot;PHL&quot;</td><td>&quot;NA&quot;</td><td>&quot;NA&quot;</td><td>&quot;tuna_purse_seines&quot;</td><td>&quot;tuna_purse_seines&quot;</td><td>&quot;FALSE&quot;</td><td>&quot;NA&quot;</td><td>&quot;66.4&quot;</td><td>&quot;66.4&quot;</td><td>&quot;NA&quot;</td><td>&quot;2219.27&quot;</td><td>&quot;2219.27&quot;</td><td>&quot;NA&quot;</td><td>&quot;1081&quot;</td><td>&quot;1081&quot;</td><td>&quot;FFA|ISSF|WCPFC|WCPFC2&quot;</td><td>&quot;NA&quot;</td><td>&quot;NA&quot;</td><td>&quot;NA&quot;</td><td>&quot;NA&quot;</td><td>&quot;NA&quot;</td><td>&quot;NA&quot;</td><td>&quot;NA&quot;</td><td>&quot;NA&quot;</td><td>&quot;545.33&quot;</td></tr><tr><td>554128120</td><td>&quot;NA&quot;</td><td>&quot;NRU&quot;</td><td>&quot;NRU&quot;</td><td>&quot;NA&quot;</td><td>&quot;NA&quot;</td><td>&quot;tuna_purse_seines&quot;</td><td>&quot;tuna_purse_seines&quot;</td><td>&quot;FALSE&quot;</td><td>&quot;NA&quot;</td><td>&quot;71.79&quot;</td><td>&quot;71.79&quot;</td><td>&quot;NA&quot;</td><td>&quot;2647&quot;</td><td>&quot;2647&quot;</td><td>&quot;NA&quot;</td><td>&quot;1350&quot;</td><td>&quot;1350&quot;</td><td>&quot;FFA|IMO|ISSF|TWN4|WCPFC&quot;</td><td>&quot;NA&quot;</td><td>&quot;NA&quot;</td><td>&quot;NA&quot;</td><td>&quot;NA&quot;</td><td>&quot;NA&quot;</td><td>&quot;NA&quot;</td><td>&quot;NA&quot;</td><td>&quot;NA&quot;</td><td>&quot;587.01&quot;</td></tr><tr><td>112119600</td><td>&quot;NA&quot;</td><td>&quot;USA&quot;</td><td>&quot;USA&quot;</td><td>&quot;NA&quot;</td><td>&quot;NA&quot;</td><td>&quot;fishing&quot;</td><td>&quot;fishing&quot;</td><td>&quot;TRUE&quot;</td><td>&quot;NA&quot;</td><td>&quot;24.64&quot;</td><td>&quot;24.64&quot;</td><td>&quot;NA&quot;</td><td>&quot;NA&quot;</td><td>&quot;NA&quot;</td><td>&quot;NA&quot;</td><td>&quot;85.48&quot;</td><td>&quot;85.48&quot;</td><td>&quot;IMO|USA&quot;</td><td>&quot;NA&quot;</td><td>&quot;NA&quot;</td><td>&quot;NA&quot;</td><td>&quot;NA&quot;</td><td>&quot;NA&quot;</td><td>&quot;NA&quot;</td><td>&quot;NA&quot;</td><td>&quot;NA&quot;</td><td>&quot;318.22&quot;</td></tr><tr><td>&hellip;</td><td>&hellip;</td><td>&hellip;</td><td>&hellip;</td><td>&hellip;</td><td>&hellip;</td><td>&hellip;</td><td>&hellip;</td><td>&hellip;</td><td>&hellip;</td><td>&hellip;</td><td>&hellip;</td><td>&hellip;</td><td>&hellip;</td><td>&hellip;</td><td>&hellip;</td><td>&hellip;</td><td>&hellip;</td><td>&hellip;</td><td>&hellip;</td><td>&hellip;</td><td>&hellip;</td><td>&hellip;</td><td>&hellip;</td><td>&hellip;</td><td>&hellip;</td><td>&hellip;</td><td>&hellip;</td></tr><tr><td>601523000</td><td>&quot;ZAF&quot;</td><td>&quot;NA&quot;</td><td>&quot;ZAF&quot;</td><td>&quot;other_purse_seines&quot;</td><td>&quot;0.999&quot;</td><td>&quot;NA&quot;</td><td>&quot;other_purse_seines&quot;</td><td>&quot;TRUE&quot;</td><td>&quot;29.29&quot;</td><td>&quot;NA&quot;</td><td>&quot;29.29&quot;</td><td>&quot;367.53&quot;</td><td>&quot;NA&quot;</td><td>&quot;367.53&quot;</td><td>&quot;163.9&quot;</td><td>&quot;NA&quot;</td><td>&quot;163.9&quot;</td><td>&quot;NA&quot;</td><td>&quot;NA&quot;</td><td>&quot;NA&quot;</td><td>&quot;NA&quot;</td><td>&quot;225.17&quot;</td><td>&quot;248.62&quot;</td><td>&quot;276.68&quot;</td><td>&quot;268.53&quot;</td><td>&quot;138.34&quot;</td><td>&quot;309.7&quot;</td></tr><tr><td>601554000</td><td>&quot;ZAF&quot;</td><td>&quot;NA&quot;</td><td>&quot;ZAF&quot;</td><td>&quot;other_purse_seines&quot;</td><td>&quot;0.897&quot;</td><td>&quot;NA&quot;</td><td>&quot;other_purse_seines&quot;</td><td>&quot;TRUE&quot;</td><td>&quot;29.82&quot;</td><td>&quot;NA&quot;</td><td>&quot;29.82&quot;</td><td>&quot;362.61&quot;</td><td>&quot;NA&quot;</td><td>&quot;362.61&quot;</td><td>&quot;135.52&quot;</td><td>&quot;NA&quot;</td><td>&quot;135.52&quot;</td><td>&quot;NA&quot;</td><td>&quot;NA&quot;</td><td>&quot;26.35&quot;</td><td>&quot;133.38&quot;</td><td>&quot;89.45&quot;</td><td>&quot;220.58&quot;</td><td>&quot;168.56&quot;</td><td>&quot;80.66&quot;</td><td>&quot;186.25&quot;</td><td>&quot;313.66&quot;</td></tr><tr><td>601556000</td><td>&quot;ZAF&quot;</td><td>&quot;NA&quot;</td><td>&quot;ZAF&quot;</td><td>&quot;other_purse_seines&quot;</td><td>&quot;0.764&quot;</td><td>&quot;NA&quot;</td><td>&quot;other_purse_seines&quot;</td><td>&quot;TRUE&quot;</td><td>&quot;33.97&quot;</td><td>&quot;NA&quot;</td><td>&quot;33.97&quot;</td><td>&quot;625.19&quot;</td><td>&quot;NA&quot;</td><td>&quot;625.19&quot;</td><td>&quot;275.32&quot;</td><td>&quot;NA&quot;</td><td>&quot;275.32&quot;</td><td>&quot;NA&quot;</td><td>&quot;NA&quot;</td><td>&quot;61.26&quot;</td><td>&quot;87.62&quot;</td><td>&quot;154.18&quot;</td><td>&quot;155.5&quot;</td><td>&quot;217.7&quot;</td><td>&quot;140.74&quot;</td><td>&quot;203.67&quot;</td><td>&quot;220.57&quot;</td></tr><tr><td>601039500</td><td>&quot;ZAF&quot;</td><td>&quot;NA&quot;</td><td>&quot;ZAF&quot;</td><td>&quot;other_purse_seines&quot;</td><td>&quot;0.783&quot;</td><td>&quot;NA&quot;</td><td>&quot;other_purse_seines&quot;</td><td>&quot;TRUE&quot;</td><td>&quot;26.86&quot;</td><td>&quot;NA&quot;</td><td>&quot;26.86&quot;</td><td>&quot;355.47&quot;</td><td>&quot;NA&quot;</td><td>&quot;355.47&quot;</td><td>&quot;124.85&quot;</td><td>&quot;NA&quot;</td><td>&quot;124.85&quot;</td><td>&quot;NA&quot;</td><td>&quot;NA&quot;</td><td>&quot;NA&quot;</td><td>&quot;134.33&quot;</td><td>&quot;98.58&quot;</td><td>&quot;NA&quot;</td><td>&quot;44.5&quot;</td><td>&quot;317.8&quot;</td><td>&quot;159.73&quot;</td><td>&quot;196.31&quot;</td></tr><tr><td>601557000</td><td>&quot;ZAF&quot;</td><td>&quot;ZAF&quot;</td><td>&quot;ZAF&quot;</td><td>&quot;other_purse_seines&quot;</td><td>&quot;0.869&quot;</td><td>&quot;fishing&quot;</td><td>&quot;other_purse_seines&quot;</td><td>&quot;FALSE&quot;</td><td>&quot;30.82&quot;</td><td>&quot;NA&quot;</td><td>&quot;30.82&quot;</td><td>&quot;555.06&quot;</td><td>&quot;NA&quot;</td><td>&quot;555.06&quot;</td><td>&quot;214.47&quot;</td><td>&quot;190&quot;</td><td>&quot;190&quot;</td><td>&quot;IMO&quot;</td><td>&quot;NA&quot;</td><td>&quot;60.02&quot;</td><td>&quot;54.01&quot;</td><td>&quot;146.45&quot;</td><td>&quot;154.36&quot;</td><td>&quot;125.56&quot;</td><td>&quot;NA&quot;</td><td>&quot;NA&quot;</td><td>&quot;NA&quot;</td></tr></tbody></table></div>"
      ],
      "text/plain": [
       "shape: (114_191, 28)\n",
       "┌───────────┬──────────┬────────────┬──────────┬───┬───────────┬───────────┬───────────┬───────────┐\n",
       "│ mmsi      ┆ flag_ais ┆ flag_regis ┆ flag_gfw ┆ … ┆ fishing_h ┆ fishing_h ┆ fishing_h ┆ fishing_h │\n",
       "│ ---       ┆ ---      ┆ try        ┆ ---      ┆   ┆ ours_2017 ┆ ours_2018 ┆ ours_2019 ┆ ours_2020 │\n",
       "│ i64       ┆ str      ┆ ---        ┆ str      ┆   ┆ ---       ┆ ---       ┆ ---       ┆ ---       │\n",
       "│           ┆          ┆ str        ┆          ┆   ┆ str       ┆ str       ┆ str       ┆ str       │\n",
       "╞═══════════╪══════════╪════════════╪══════════╪═══╪═══════════╪═══════════╪═══════════╪═══════════╡\n",
       "│ 40120000  ┆ NA       ┆ GRC        ┆ GRC      ┆ … ┆ NA        ┆ NA        ┆ NA        ┆ 674.1     │\n",
       "│ 444002410 ┆ NA       ┆ KOR        ┆ KOR      ┆ … ┆ NA        ┆ NA        ┆ NA        ┆ 144.43    │\n",
       "│ 987654320 ┆ NA       ┆ PHL        ┆ PHL      ┆ … ┆ NA        ┆ NA        ┆ NA        ┆ 545.33    │\n",
       "│ 554128120 ┆ NA       ┆ NRU        ┆ NRU      ┆ … ┆ NA        ┆ NA        ┆ NA        ┆ 587.01    │\n",
       "│ 112119600 ┆ NA       ┆ USA        ┆ USA      ┆ … ┆ NA        ┆ NA        ┆ NA        ┆ 318.22    │\n",
       "│ …         ┆ …        ┆ …          ┆ …        ┆ … ┆ …         ┆ …         ┆ …         ┆ …         │\n",
       "│ 601523000 ┆ ZAF      ┆ NA         ┆ ZAF      ┆ … ┆ 276.68    ┆ 268.53    ┆ 138.34    ┆ 309.7     │\n",
       "│ 601554000 ┆ ZAF      ┆ NA         ┆ ZAF      ┆ … ┆ 168.56    ┆ 80.66     ┆ 186.25    ┆ 313.66    │\n",
       "│ 601556000 ┆ ZAF      ┆ NA         ┆ ZAF      ┆ … ┆ 217.7     ┆ 140.74    ┆ 203.67    ┆ 220.57    │\n",
       "│ 601039500 ┆ ZAF      ┆ NA         ┆ ZAF      ┆ … ┆ 44.5      ┆ 317.8     ┆ 159.73    ┆ 196.31    │\n",
       "│ 601557000 ┆ ZAF      ┆ ZAF        ┆ ZAF      ┆ … ┆ 125.56    ┆ NA        ┆ NA        ┆ NA        │\n",
       "└───────────┴──────────┴────────────┴──────────┴───┴───────────┴───────────┴───────────┴───────────┘"
      ]
     },
     "execution_count": 3,
     "metadata": {},
     "output_type": "execute_result"
    }
   ],
   "source": [
    "vesselLabelsDF"
   ]
  },
  {
   "cell_type": "code",
   "execution_count": 4,
   "metadata": {},
   "outputs": [],
   "source": [
    "#create primary flag field by using registry 1st and inferred 2nd\n",
    "vesselLabelsDF = vesselLabelsDF.with_columns(\n",
    "    pl.when(pl.col('flag_registry') != 'NA')\n",
    "    .then(pl.col('flag_registry'))\n",
    "    .otherwise(pl.col('flag_ais'))\n",
    "    .alias('flag'))\n",
    "\n",
    "vesselLabelsDF = vesselLabelsDF.with_columns(\n",
    "    pl.when(pl.col('vessel_class_registry') != 'NA')\n",
    "    .then(pl.col('vessel_class_registry'))\n",
    "    .otherwise(pl.col('vessel_class_inferred'))\n",
    "    .alias('class'))"
   ]
  },
  {
   "cell_type": "code",
   "execution_count": 5,
   "metadata": {},
   "outputs": [],
   "source": [
    "#filter vessel labels DF for only needed fields\n",
    "vesselLabelsDF = vesselLabelsDF[['mmsi', 'flag', 'class']]"
   ]
  },
  {
   "cell_type": "code",
   "execution_count": 6,
   "metadata": {},
   "outputs": [
    {
     "data": {
      "text/html": [
       "<div><style>\n",
       ".dataframe > thead > tr,\n",
       ".dataframe > tbody > tr {\n",
       "  text-align: right;\n",
       "  white-space: pre-wrap;\n",
       "}\n",
       "</style>\n",
       "<small>shape: (114_191, 3)</small><table border=\"1\" class=\"dataframe\"><thead><tr><th>mmsi</th><th>flag</th><th>class</th></tr><tr><td>i64</td><td>str</td><td>str</td></tr></thead><tbody><tr><td>40120000</td><td>&quot;GRC&quot;</td><td>&quot;trawlers&quot;</td></tr><tr><td>444002410</td><td>&quot;KOR&quot;</td><td>&quot;tuna_purse_seines&quot;</td></tr><tr><td>987654320</td><td>&quot;PHL&quot;</td><td>&quot;tuna_purse_seines&quot;</td></tr><tr><td>554128120</td><td>&quot;NRU&quot;</td><td>&quot;tuna_purse_seines&quot;</td></tr><tr><td>112119600</td><td>&quot;USA&quot;</td><td>&quot;fishing&quot;</td></tr><tr><td>&hellip;</td><td>&hellip;</td><td>&hellip;</td></tr><tr><td>601523000</td><td>&quot;ZAF&quot;</td><td>&quot;other_purse_seines&quot;</td></tr><tr><td>601554000</td><td>&quot;ZAF&quot;</td><td>&quot;other_purse_seines&quot;</td></tr><tr><td>601556000</td><td>&quot;ZAF&quot;</td><td>&quot;other_purse_seines&quot;</td></tr><tr><td>601039500</td><td>&quot;ZAF&quot;</td><td>&quot;other_purse_seines&quot;</td></tr><tr><td>601557000</td><td>&quot;ZAF&quot;</td><td>&quot;fishing&quot;</td></tr></tbody></table></div>"
      ],
      "text/plain": [
       "shape: (114_191, 3)\n",
       "┌───────────┬──────┬────────────────────┐\n",
       "│ mmsi      ┆ flag ┆ class              │\n",
       "│ ---       ┆ ---  ┆ ---                │\n",
       "│ i64       ┆ str  ┆ str                │\n",
       "╞═══════════╪══════╪════════════════════╡\n",
       "│ 40120000  ┆ GRC  ┆ trawlers           │\n",
       "│ 444002410 ┆ KOR  ┆ tuna_purse_seines  │\n",
       "│ 987654320 ┆ PHL  ┆ tuna_purse_seines  │\n",
       "│ 554128120 ┆ NRU  ┆ tuna_purse_seines  │\n",
       "│ 112119600 ┆ USA  ┆ fishing            │\n",
       "│ …         ┆ …    ┆ …                  │\n",
       "│ 601523000 ┆ ZAF  ┆ other_purse_seines │\n",
       "│ 601554000 ┆ ZAF  ┆ other_purse_seines │\n",
       "│ 601556000 ┆ ZAF  ┆ other_purse_seines │\n",
       "│ 601039500 ┆ ZAF  ┆ other_purse_seines │\n",
       "│ 601557000 ┆ ZAF  ┆ fishing            │\n",
       "└───────────┴──────┴────────────────────┘"
      ]
     },
     "execution_count": 6,
     "metadata": {},
     "output_type": "execute_result"
    }
   ],
   "source": [
    "vesselLabelsDF"
   ]
  },
  {
   "cell_type": "code",
   "execution_count": 7,
   "metadata": {},
   "outputs": [],
   "source": [
    "#read in daily vessel location data\n",
    "locRawDF = pl.read_csv('MMSI-daily-merged_2017_2020.csv')"
   ]
  },
  {
   "cell_type": "code",
   "execution_count": 8,
   "metadata": {},
   "outputs": [
    {
     "name": "stderr",
     "output_type": "stream",
     "text": [
      "C:\\Users\\Chris\\AppData\\Local\\Temp\\ipykernel_19460\\3071954931.py:2: DeprecationWarning: The default coalesce behavior of left join will change to `False` in the next breaking release. Pass `coalesce=True` to keep the current behavior and silence this warning.\n",
      "  locRawDF = locRawDF.join(vesselLabelsDF, on='mmsi', how='left')\n"
     ]
    }
   ],
   "source": [
    "#merge with labels DF to reference in flag and vessel class\n",
    "locRawDF = locRawDF.join(vesselLabelsDF, on='mmsi', how='left')"
   ]
  },
  {
   "cell_type": "code",
   "execution_count": 9,
   "metadata": {},
   "outputs": [
    {
     "data": {
      "text/html": [
       "<div><style>\n",
       ".dataframe > thead > tr,\n",
       ".dataframe > tbody > tr {\n",
       "  text-align: right;\n",
       "  white-space: pre-wrap;\n",
       "}\n",
       "</style>\n",
       "<small>shape: (201_625_996, 8)</small><table border=\"1\" class=\"dataframe\"><thead><tr><th>date</th><th>cell_ll_lat</th><th>cell_ll_lon</th><th>mmsi</th><th>hours</th><th>fishing_hours</th><th>flag</th><th>class</th></tr><tr><td>str</td><td>f64</td><td>f64</td><td>i64</td><td>f64</td><td>f64</td><td>str</td><td>str</td></tr></thead><tbody><tr><td>&quot;2017-01-01&quot;</td><td>0.0</td><td>-2.6</td><td>306097000</td><td>1.6175</td><td>0.0</td><td>&quot;CUW&quot;</td><td>&quot;tuna_purse_seines&quot;</td></tr><tr><td>&quot;2017-01-01&quot;</td><td>0.0</td><td>-171.5</td><td>338539000</td><td>0.5444</td><td>0.0</td><td>&quot;USA&quot;</td><td>&quot;tuna_purse_seines&quot;</td></tr><tr><td>&quot;2017-01-01&quot;</td><td>0.0</td><td>-152.6</td><td>359002000</td><td>1.3522</td><td>0.0</td><td>&quot;SLV&quot;</td><td>&quot;tuna_purse_seines&quot;</td></tr><tr><td>&quot;2017-01-01&quot;</td><td>0.0</td><td>170.6</td><td>367170000</td><td>0.3972</td><td>0.0</td><td>&quot;USA&quot;</td><td>&quot;tuna_purse_seines&quot;</td></tr><tr><td>&quot;2017-01-01&quot;</td><td>0.0</td><td>170.7</td><td>367170000</td><td>0.6944</td><td>0.3891</td><td>&quot;USA&quot;</td><td>&quot;tuna_purse_seines&quot;</td></tr><tr><td>&hellip;</td><td>&hellip;</td><td>&hellip;</td><td>&hellip;</td><td>&hellip;</td><td>&hellip;</td><td>&hellip;</td><td>&hellip;</td></tr><tr><td>&quot;2020-12-31&quot;</td><td>71.7</td><td>26.1</td><td>276842000</td><td>0.2108</td><td>0.0</td><td>&quot;EST&quot;</td><td>&quot;trawlers&quot;</td></tr><tr><td>&quot;2020-12-31&quot;</td><td>75.7</td><td>16.0</td><td>273350610</td><td>0.1352</td><td>0.0</td><td>&quot;RUS&quot;</td><td>&quot;trawlers&quot;</td></tr><tr><td>&quot;2020-12-31&quot;</td><td>75.7</td><td>15.9</td><td>273350610</td><td>0.3288</td><td>0.0</td><td>&quot;RUS&quot;</td><td>&quot;trawlers&quot;</td></tr><tr><td>&quot;2020-12-31&quot;</td><td>75.7</td><td>15.8</td><td>273350610</td><td>0.1808</td><td>0.0</td><td>&quot;RUS&quot;</td><td>&quot;trawlers&quot;</td></tr><tr><td>&quot;2020-12-31&quot;</td><td>75.7</td><td>15.7</td><td>273350610</td><td>0.1258</td><td>0.0</td><td>&quot;RUS&quot;</td><td>&quot;trawlers&quot;</td></tr></tbody></table></div>"
      ],
      "text/plain": [
       "shape: (201_625_996, 8)\n",
       "┌────────────┬─────────────┬─────────────┬───────────┬────────┬──────────────┬──────┬──────────────┐\n",
       "│ date       ┆ cell_ll_lat ┆ cell_ll_lon ┆ mmsi      ┆ hours  ┆ fishing_hour ┆ flag ┆ class        │\n",
       "│ ---        ┆ ---         ┆ ---         ┆ ---       ┆ ---    ┆ s            ┆ ---  ┆ ---          │\n",
       "│ str        ┆ f64         ┆ f64         ┆ i64       ┆ f64    ┆ ---          ┆ str  ┆ str          │\n",
       "│            ┆             ┆             ┆           ┆        ┆ f64          ┆      ┆              │\n",
       "╞════════════╪═════════════╪═════════════╪═══════════╪════════╪══════════════╪══════╪══════════════╡\n",
       "│ 2017-01-01 ┆ 0.0         ┆ -2.6        ┆ 306097000 ┆ 1.6175 ┆ 0.0          ┆ CUW  ┆ tuna_purse_s │\n",
       "│            ┆             ┆             ┆           ┆        ┆              ┆      ┆ eines        │\n",
       "│ 2017-01-01 ┆ 0.0         ┆ -171.5      ┆ 338539000 ┆ 0.5444 ┆ 0.0          ┆ USA  ┆ tuna_purse_s │\n",
       "│            ┆             ┆             ┆           ┆        ┆              ┆      ┆ eines        │\n",
       "│ 2017-01-01 ┆ 0.0         ┆ -152.6      ┆ 359002000 ┆ 1.3522 ┆ 0.0          ┆ SLV  ┆ tuna_purse_s │\n",
       "│            ┆             ┆             ┆           ┆        ┆              ┆      ┆ eines        │\n",
       "│ 2017-01-01 ┆ 0.0         ┆ 170.6       ┆ 367170000 ┆ 0.3972 ┆ 0.0          ┆ USA  ┆ tuna_purse_s │\n",
       "│            ┆             ┆             ┆           ┆        ┆              ┆      ┆ eines        │\n",
       "│ 2017-01-01 ┆ 0.0         ┆ 170.7       ┆ 367170000 ┆ 0.6944 ┆ 0.3891       ┆ USA  ┆ tuna_purse_s │\n",
       "│            ┆             ┆             ┆           ┆        ┆              ┆      ┆ eines        │\n",
       "│ …          ┆ …           ┆ …           ┆ …         ┆ …      ┆ …            ┆ …    ┆ …            │\n",
       "│ 2020-12-31 ┆ 71.7        ┆ 26.1        ┆ 276842000 ┆ 0.2108 ┆ 0.0          ┆ EST  ┆ trawlers     │\n",
       "│ 2020-12-31 ┆ 75.7        ┆ 16.0        ┆ 273350610 ┆ 0.1352 ┆ 0.0          ┆ RUS  ┆ trawlers     │\n",
       "│ 2020-12-31 ┆ 75.7        ┆ 15.9        ┆ 273350610 ┆ 0.3288 ┆ 0.0          ┆ RUS  ┆ trawlers     │\n",
       "│ 2020-12-31 ┆ 75.7        ┆ 15.8        ┆ 273350610 ┆ 0.1808 ┆ 0.0          ┆ RUS  ┆ trawlers     │\n",
       "│ 2020-12-31 ┆ 75.7        ┆ 15.7        ┆ 273350610 ┆ 0.1258 ┆ 0.0          ┆ RUS  ┆ trawlers     │\n",
       "└────────────┴─────────────┴─────────────┴───────────┴────────┴──────────────┴──────┴──────────────┘"
      ]
     },
     "execution_count": 9,
     "metadata": {},
     "output_type": "execute_result"
    }
   ],
   "source": [
    "locRawDF"
   ]
  },
  {
   "cell_type": "code",
   "execution_count": 10,
   "metadata": {},
   "outputs": [],
   "source": [
    "#filter to retain only 2019-2020\n",
    "locRawDF = locRawDF.filter((pl.col('date').str.slice(0, length=4) == '2019') | (pl.col('date').str.slice(0, length=4) == '2020'))"
   ]
  },
  {
   "cell_type": "code",
   "execution_count": 11,
   "metadata": {},
   "outputs": [
    {
     "data": {
      "text/html": [
       "<div><style>\n",
       ".dataframe > thead > tr,\n",
       ".dataframe > tbody > tr {\n",
       "  text-align: right;\n",
       "  white-space: pre-wrap;\n",
       "}\n",
       "</style>\n",
       "<small>shape: (107_207_569, 8)</small><table border=\"1\" class=\"dataframe\"><thead><tr><th>date</th><th>cell_ll_lat</th><th>cell_ll_lon</th><th>mmsi</th><th>hours</th><th>fishing_hours</th><th>flag</th><th>class</th></tr><tr><td>str</td><td>f64</td><td>f64</td><td>i64</td><td>f64</td><td>f64</td><td>str</td><td>str</td></tr></thead><tbody><tr><td>&quot;2019-01-01&quot;</td><td>0.0</td><td>-105.6</td><td>224900000</td><td>0.2036</td><td>0.0</td><td>&quot;ESP&quot;</td><td>&quot;drifting_longlines&quot;</td></tr><tr><td>&quot;2019-01-01&quot;</td><td>0.0</td><td>-105.3</td><td>224900000</td><td>0.0205</td><td>0.0</td><td>&quot;ESP&quot;</td><td>&quot;drifting_longlines&quot;</td></tr><tr><td>&quot;2019-01-01&quot;</td><td>0.0</td><td>-105.5</td><td>224900000</td><td>0.9008</td><td>0.0</td><td>&quot;ESP&quot;</td><td>&quot;drifting_longlines&quot;</td></tr><tr><td>&quot;2019-01-01&quot;</td><td>0.0</td><td>-105.4</td><td>224900000</td><td>0.8638</td><td>0.0</td><td>&quot;ESP&quot;</td><td>&quot;drifting_longlines&quot;</td></tr><tr><td>&quot;2019-01-01&quot;</td><td>0.0</td><td>-0.3</td><td>228071900</td><td>0.7969</td><td>0.0</td><td>&quot;FRA&quot;</td><td>&quot;tuna_purse_seines&quot;</td></tr><tr><td>&hellip;</td><td>&hellip;</td><td>&hellip;</td><td>&hellip;</td><td>&hellip;</td><td>&hellip;</td><td>&hellip;</td><td>&hellip;</td></tr><tr><td>&quot;2020-12-31&quot;</td><td>71.7</td><td>26.1</td><td>276842000</td><td>0.2108</td><td>0.0</td><td>&quot;EST&quot;</td><td>&quot;trawlers&quot;</td></tr><tr><td>&quot;2020-12-31&quot;</td><td>75.7</td><td>16.0</td><td>273350610</td><td>0.1352</td><td>0.0</td><td>&quot;RUS&quot;</td><td>&quot;trawlers&quot;</td></tr><tr><td>&quot;2020-12-31&quot;</td><td>75.7</td><td>15.9</td><td>273350610</td><td>0.3288</td><td>0.0</td><td>&quot;RUS&quot;</td><td>&quot;trawlers&quot;</td></tr><tr><td>&quot;2020-12-31&quot;</td><td>75.7</td><td>15.8</td><td>273350610</td><td>0.1808</td><td>0.0</td><td>&quot;RUS&quot;</td><td>&quot;trawlers&quot;</td></tr><tr><td>&quot;2020-12-31&quot;</td><td>75.7</td><td>15.7</td><td>273350610</td><td>0.1258</td><td>0.0</td><td>&quot;RUS&quot;</td><td>&quot;trawlers&quot;</td></tr></tbody></table></div>"
      ],
      "text/plain": [
       "shape: (107_207_569, 8)\n",
       "┌────────────┬─────────────┬─────────────┬───────────┬────────┬──────────────┬──────┬──────────────┐\n",
       "│ date       ┆ cell_ll_lat ┆ cell_ll_lon ┆ mmsi      ┆ hours  ┆ fishing_hour ┆ flag ┆ class        │\n",
       "│ ---        ┆ ---         ┆ ---         ┆ ---       ┆ ---    ┆ s            ┆ ---  ┆ ---          │\n",
       "│ str        ┆ f64         ┆ f64         ┆ i64       ┆ f64    ┆ ---          ┆ str  ┆ str          │\n",
       "│            ┆             ┆             ┆           ┆        ┆ f64          ┆      ┆              │\n",
       "╞════════════╪═════════════╪═════════════╪═══════════╪════════╪══════════════╪══════╪══════════════╡\n",
       "│ 2019-01-01 ┆ 0.0         ┆ -105.6      ┆ 224900000 ┆ 0.2036 ┆ 0.0          ┆ ESP  ┆ drifting_lon │\n",
       "│            ┆             ┆             ┆           ┆        ┆              ┆      ┆ glines       │\n",
       "│ 2019-01-01 ┆ 0.0         ┆ -105.3      ┆ 224900000 ┆ 0.0205 ┆ 0.0          ┆ ESP  ┆ drifting_lon │\n",
       "│            ┆             ┆             ┆           ┆        ┆              ┆      ┆ glines       │\n",
       "│ 2019-01-01 ┆ 0.0         ┆ -105.5      ┆ 224900000 ┆ 0.9008 ┆ 0.0          ┆ ESP  ┆ drifting_lon │\n",
       "│            ┆             ┆             ┆           ┆        ┆              ┆      ┆ glines       │\n",
       "│ 2019-01-01 ┆ 0.0         ┆ -105.4      ┆ 224900000 ┆ 0.8638 ┆ 0.0          ┆ ESP  ┆ drifting_lon │\n",
       "│            ┆             ┆             ┆           ┆        ┆              ┆      ┆ glines       │\n",
       "│ 2019-01-01 ┆ 0.0         ┆ -0.3        ┆ 228071900 ┆ 0.7969 ┆ 0.0          ┆ FRA  ┆ tuna_purse_s │\n",
       "│            ┆             ┆             ┆           ┆        ┆              ┆      ┆ eines        │\n",
       "│ …          ┆ …           ┆ …           ┆ …         ┆ …      ┆ …            ┆ …    ┆ …            │\n",
       "│ 2020-12-31 ┆ 71.7        ┆ 26.1        ┆ 276842000 ┆ 0.2108 ┆ 0.0          ┆ EST  ┆ trawlers     │\n",
       "│ 2020-12-31 ┆ 75.7        ┆ 16.0        ┆ 273350610 ┆ 0.1352 ┆ 0.0          ┆ RUS  ┆ trawlers     │\n",
       "│ 2020-12-31 ┆ 75.7        ┆ 15.9        ┆ 273350610 ┆ 0.3288 ┆ 0.0          ┆ RUS  ┆ trawlers     │\n",
       "│ 2020-12-31 ┆ 75.7        ┆ 15.8        ┆ 273350610 ┆ 0.1808 ┆ 0.0          ┆ RUS  ┆ trawlers     │\n",
       "│ 2020-12-31 ┆ 75.7        ┆ 15.7        ┆ 273350610 ┆ 0.1258 ┆ 0.0          ┆ RUS  ┆ trawlers     │\n",
       "└────────────┴─────────────┴─────────────┴───────────┴────────┴──────────────┴──────┴──────────────┘"
      ]
     },
     "execution_count": 11,
     "metadata": {},
     "output_type": "execute_result"
    }
   ],
   "source": [
    "locRawDF"
   ]
  },
  {
   "cell_type": "code",
   "execution_count": 72,
   "metadata": {},
   "outputs": [],
   "source": [
    "#create unique vessel dataframe by removing all duplice mmsi's, regardless of date\n",
    "uniqueVDF = locRawDF[['mmsi', 'flag', 'class']]\n",
    "uniqueVDF = uniqueVDF.unique(subset=['mmsi'])\n",
    "\n",
    "uniqueVesselCount = len(uniqueVDF)\n",
    "\n",
    "#create flag count dataframe by counting unique flags and adding % of total field\n",
    "flagCounts = uniqueVDF['flag'].value_counts()\n",
    "flagCounts = flagCounts.with_columns((pl.col('count') / sum(flagCounts['count']) * 100).round(2).alias('pct'))\n",
    "\n",
    "uniqueFlagCounts = len(flagCounts)\n",
    "\n",
    "#aggregate all flag counts with less than 0.5% of total into an \"other\" category and re-run % of total\n",
    "flagCounts = flagCounts.with_columns(pl.when(pl.col('pct') > 0.5)\n",
    "                                     .then(pl.col('flag'))\n",
    "                                     .otherwise(pl.lit('OTHER'))\n",
    "                                     .alias('flag2'))\n",
    "\n",
    "flagCounts = flagCounts[['count', 'flag2']]\n",
    "\n",
    "flagCounts = (flagCounts.with_columns(pl.col('flag2')).group_by('flag2').sum())\n",
    "\n",
    "flagCounts = flagCounts.with_columns((pl.col('count') / sum(flagCounts['count']) * 100).round(2).alias('pct'))\n",
    "flagCounts = flagCounts.sort('pct', descending=True)\n",
    "\n",
    "#create vessel class count dataframe by splitting and exploding vessel types, counting unique types, and adding % of total field\n",
    "classCounts = (uniqueVDF.with_columns(pl.col('class').str.split('|'))\n",
    "               .explode('class'))\n",
    "\n",
    "classCounts = classCounts['class'].value_counts()\n",
    "classCounts = classCounts.with_columns((pl.col('count') / sum (classCounts['count']) * 100).round(2).alias('pct'))\n",
    "classCounts = classCounts.sort('pct', descending=True)\n",
    "\n",
    "uniqueClassCounts = len(classCounts)"
   ]
  },
  {
   "cell_type": "code",
   "execution_count": 73,
   "metadata": {},
   "outputs": [
    {
     "data": {
      "text/plain": [
       "(79481, 210, 18)"
      ]
     },
     "execution_count": 73,
     "metadata": {},
     "output_type": "execute_result"
    }
   ],
   "source": [
    "uniqueVesselCount, uniqueFlagCounts, uniqueClassCounts"
   ]
  },
  {
   "cell_type": "code",
   "execution_count": null,
   "metadata": {},
   "outputs": [],
   "source": []
  }
 ],
 "metadata": {
  "kernelspec": {
   "display_name": "myenv",
   "language": "python",
   "name": "python3"
  },
  "language_info": {
   "codemirror_mode": {
    "name": "ipython",
    "version": 3
   },
   "file_extension": ".py",
   "mimetype": "text/x-python",
   "name": "python",
   "nbconvert_exporter": "python",
   "pygments_lexer": "ipython3",
   "version": "3.11.9"
  }
 },
 "nbformat": 4,
 "nbformat_minor": 2
}
